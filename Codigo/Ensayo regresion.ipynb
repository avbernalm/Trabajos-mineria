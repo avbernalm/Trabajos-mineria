{
 "cells": [
  {
   "cell_type": "markdown",
   "metadata": {},
   "source": [
    "# <center>Regresión lineal</center>"
   ]
  },
  {
   "cell_type": "markdown",
   "metadata": {},
   "source": [
    "## 1. Introducción."
   ]
  },
  {
   "cell_type": "markdown",
   "metadata": {},
   "source": [
    "En estadística, la regresión lineal es un método estadístico que intenta modelar la relación entre una variable dependiente y una o más variables explicativas. Se  denomina regresión lineal simple cuando sólo hay una variable explicativa y regresión lineal múltiple en caso de que hayan dos o más variables explicativas.\n",
    "\n",
    "La regresión lineal en el contexto de Machine Learning, es un algoritmo de aprendizaje supervisado y es utilizado para predicciones. Sin embargo, no siempre un problema de predicción es un problema clásico de regresión.Por ejemplo, cuando el objetivo es predecir la pertenencia de un conjunto de categorías, ya es un problema de clasificación. Ver [Libro, Dive](https://d2l.ai/d2l-en.pdf)"
   ]
  },
  {
   "cell_type": "markdown",
   "metadata": {},
   "source": [
    "![Intro](https://koldopina.com/wp-content/uploads/2018/03/LR.jpg)"
   ]
  },
  {
   "cell_type": "markdown",
   "metadata": {},
   "source": [
    "## 2. Breve historia"
   ]
  },
  {
   "cell_type": "markdown",
   "metadata": {},
   "source": [
    "La palabra *regresión* fue introducida por Francis Galton en el año 1889, a través de la publicación de su libro Natural inheritance, la cual fue constatada por Karl Pearson. Su trabajo constaba en describir la descripción de los rasgos físicos de los hijos (variable dependiente) a partir de los rasgos físicos de sus padres (variable explicativa). Al realizar varios ensayos, Galton observó que los padres muy altos tenian hijos que eran altos, pero que revelaban también una tendencia de regresar a la media. \n",
    "\n",
    "La primera metodología para regresión lineada fue la de mínimos cuadrados, la cual fue publicada por Legendre en 1805.[Diapositiva 3](https://prezi.com/qpxysldecq4u/regresion-lineal/#:~:text=REGRESION%20LINEAL&text=El%20t%C3%A9rmino%20regresi%C3%B3n%20fue%20introducido,sus%20padres%20(variable%20B).)"
   ]
  },
  {
   "cell_type": "markdown",
   "metadata": {},
   "source": [
    "![](..\\Imagenes\\Galton.jpg)  ![](..\\Imagenes\\Pearson.jpg)![](..\\Imagenes\\Legendre.jpg)"
   ]
  },
  {
   "cell_type": "markdown",
   "metadata": {},
   "source": [
    "## 3. El planteamiento del algortimo."
   ]
  },
  {
   "cell_type": "markdown",
   "metadata": {},
   "source": [
    "### Modelo de regresión lineal simple\n",
    "Primeramente, hay que tener presente que un modelo consta en una representación simplificada de un fénomeno. El modelo tiene dos características principales, las cuales son:\n",
    "\n",
    "* Debe ser lo más sencillo posible (parsimonia)\n",
    "* Describa en buena manera al fénomeno y tenga supuestos realistas\n",
    "\n",
    "\n",
    "Una vez teniendo claro lo anterior, se tiene que un modelo de regresión lineal simple está dado como sigue:\n",
    "\n",
    "$$y_i=\\beta_0+\\beta_1x_i+e_i \\;\\;\\; i=1,...,n$$\n",
    "\n",
    "Donde:\n",
    "\n",
    "* $y_i$:Variable dependiente o explicada (Variable de interés)\n",
    "* $x_i$:Variable independiente o explicativa \n",
    "* $\\beta_0 ,\\beta_1$: Parámetros\n",
    "* $e_i$:Error del modelo\n",
    "\n",
    "\n",
    "Adicionalmente, los errores $e_i$ del modelo de regresión lineal simple debe satisfacer los siguientes supuestos:\n",
    "* $E(e_i)=0$\n",
    "* $E(e_i^2)=\\sigma^2$\n",
    "* $E(e_i,e_j)=0$ para todo  $i\\neq j$\n",
    "* $e_i \\sim$ Normal\n",
    "\n",
    "\n",
    "\n",
    "### Modelo de regresión lineal múltiple\n",
    "\n",
    "Ahora, ¿qué pasa si la variable de interés se puede explicar a través de dos o más variables explicativas? Para dar respuesta a la pregunta anterior, existe el modelo de regresión lineal múltiple el cual está dado por la siguiente ecuación \n",
    "\n",
    "$$ y_i=\\beta_0+\\beta_1x_{i1}+\\beta_2 x_{i2}+\\dots+\\beta_j x_{ij}+ \\dots+\\beta_j x_{ik} +e_i \\;\\;\\; i=1,...,n$$\n",
    "\n",
    "Donde:\n",
    "\n",
    "* $y_i$: Variable dependiente o explicada\n",
    "* $x_{ij}$: $j$-ésima variable independiente o explicativa\n",
    "* $\\beta_{j}$: $j$-ésimo parámetro asociado a la j-ésima variable\n",
    "* $e_i$: Error del modelo\n",
    "* $k$ es el número de variables explicativas\n",
    "\n",
    "\n",
    "Como ocurria con la regresión lineal simple, los errores $e_i$ del modelo de regresión lineal múltiple debe satisfacer los siguientes supuestos:\n",
    "* $E(e_i)=0$\n",
    "* $E(e_i^2)=\\sigma^2$\n",
    "* $E(e_i,e_j)=0$ para todo $i\\neq j$\n",
    "* $e_i \\sim$ Normal\n",
    "\n",
    "\n",
    "#### Modelo de regresión múltiple expresado en forma matricial\n",
    "\n",
    "Si se expresa el modelo anterior de forma matricial se obtiene lo siguiente:\n",
    "\n",
    "\n",
    "$$\\begin{pmatrix}\n",
    "y_1\\\\\n",
    "y_2\\\\\n",
    "\\vdots\\\\\n",
    "y_n\n",
    "\\end{pmatrix} =\n",
    "\\begin{pmatrix}\n",
    "1 & x_{11} & x_{12} & \\dots & x_{1k} \\\\\n",
    "1 & x_{21} & x_{22} & \\dots & x_{2k}\\\\\n",
    "\\vdots & \\vdots & \\vdots & \\vdots \\\\\n",
    "1 & x_{n1} & x_{n2} & x_{nk} \n",
    "\\end{pmatrix} \n",
    "\\begin{pmatrix}\n",
    "\\beta_0\\\\\n",
    "\\beta_1 \\\\\n",
    "\\vdots\\\\\n",
    "\\beta_k\n",
    "\\end{pmatrix}+\n",
    "\\begin{pmatrix}\n",
    "\\epsilon_1\\\\\n",
    "\\epsilon_2\\\\\n",
    "\\vdots\\\\\n",
    "\\epsilon e_n\n",
    "\\end{pmatrix}$$\n",
    "\n",
    "\n",
    "Lo que es equivalente a:\n",
    "   $$ Y=X\\beta+ \\epsilon$$\n",
    "\n",
    "Y los supuestos quedan experesados de la siguiente forma:\n",
    "* $E(\\epsilon)=0$\n",
    "* $E(\\epsilon\\epsilon')=\\sigma^2 I$\n",
    "* $\\epsilon$ distribuye normal multivariada\n",
    "* $E(\\epsilon X)=E(\\epsilon)E(X)$\n",
    "* $X$ es rango completo\n",
    "\n",
    "\n",
    "\n",
    "#### Estimación de los parámetros de una regresión lineal múltiple\n",
    "\n",
    "\n",
    "Observe que $\\epsilon=Y-X\\beta$ y por lo tanto:\n",
    "\n",
    "$$\\sum_{i=0}^2 \\epsilon_i^n= \\epsilon'\\epsilon=(Y-X\\beta)'(Y-X\\beta)$$\n",
    "\n",
    "Ahora, dados $Y$ y $X$ fijos, hallar $\\hat{\\beta}$, bajo la filosofía de MCO se convierte en:\n",
    "\n",
    "$$\\text{Minimizar e'e}  \\Leftrightarrow \\text{Minimizar } f(\\beta) \\Leftrightarrow (Y-X\\beta)'(Y-X\\beta)$$\n",
    "\n",
    "\n",
    "Entonces para minimizar $e'e=(Y-X\\beta)'(Y-X\\beta)$, se tiene en cuenta el cálculo diferencial vectorial, por lo tanto se debe hacer una diferenciación de $e'e$\n",
    "\n",
    "$$\\begin{align}\n",
    "         \\frac{\\partial e'e}{\\partial \\beta}&= \\frac{\\partial(Y'Y-\\beta'X'Y-Y'X\\beta+\\beta'X'X\\beta)}{\\partial\\beta} \\\\\n",
    "         &= \\frac{\\partial(-2\\beta'X'Y+\\beta'X'X\\beta)}{\\partial\\beta} \\\\\n",
    "         &=-2X'Y+2X'X\\beta\n",
    "\\end{align}$$\n",
    "\n",
    "Suponiendo que existe $\\hat{\\beta}$, tal que es punto crítico, entonces:\n",
    "\n",
    "$\\frac{\\partial e'e}{\\partial \\beta}=-2X'Y+2X'X\\hat{\\beta}=0$\n",
    "\n",
    "Al despejar $\\hat{\\beta}$ se obtiene como resultado:\n",
    "\n",
    "$$\\hat{\\beta}=(X'X)^{-1}X'Y$$\n",
    "\n",
    "Se sabe que este valor es mínimo pues \n",
    "\n",
    "$$\\frac{\\partial^2 e'e}{\\partial \\beta^2}=2X'X$$  \n",
    "\n",
    "Y como $X'X$ es una matriz definida positiva entonces un estimador de MCO para el vector $\\beta$ está dado por $\\hat{\\beta}=(X'X)^{-1}X'Y$\n",
    "\n",
    "Tambien se tiene que la estimación de $Y$ está dada por:\n",
    "\n",
    "$$\\hat{Y}=X\\hat{\\beta}$$"
   ]
  },
  {
   "cell_type": "markdown",
   "metadata": {},
   "source": [
    "## 4. Desarrollar un ejemplo de regresión lineal, con datos reales"
   ]
  },
  {
   "cell_type": "markdown",
   "metadata": {},
   "source": [
    "Se realizará una pequeña aplicación, con unos datos obtenidos de [Kaggle](https://www.kaggle.com/uciml/red-wine-quality-cortez-et-al-2009).\n",
    "\n",
    "El conjunto de datos consiste en variantes rojas del vino portugués \"Vinho Verde\".Las variables disponibles son de tipo fisicoquímicas y una sensorial. \n",
    "\n",
    "Las variables fisicoquímicas son:\n",
    "* 1 - acidez fija\n",
    "* 2 - acidez volátil\n",
    "* 3 - ácido cítrico\n",
    "* 4 - azúcar residual\n",
    "* 5 - cloruros\n",
    "* 6 - dióxido de azufre libre\n",
    "* 7 - dióxido de azufre total\n",
    "* 8 - densidad\n",
    "* 9 - pH\n",
    "* 10 - sulfatos\n",
    "* 11 - alcohol\n",
    "\n",
    "La variable sensorial es:\n",
    "* 12 - calidad (puntuación entre 0 y 10)\n",
    "\n",
    "\n",
    "Así la variable dependiente será la calidad y sera explicada por las variables fisicoquímicas.\n"
   ]
  },
  {
   "cell_type": "code",
   "execution_count": 1,
   "metadata": {},
   "outputs": [],
   "source": [
    "import numpy as np\n",
    "import pandas as pd\n",
    "import seaborn as sb\n",
    "import matplotlib.pyplot as plt\n",
    "%matplotlib inline\n",
    "from mpl_toolkits.mplot3d import Axes3D\n",
    "from matplotlib import cm\n",
    "plt.rcParams['figure.figsize'] = (16, 9)\n",
    "from sklearn import linear_model\n",
    "from sklearn.metrics import mean_squared_error, r2_score"
   ]
  },
  {
   "cell_type": "code",
   "execution_count": 2,
   "metadata": {},
   "outputs": [
    {
     "data": {
      "text/plain": [
       "(1599, 12)"
      ]
     },
     "execution_count": 2,
     "metadata": {},
     "output_type": "execute_result"
    }
   ],
   "source": [
    "#carga de los datos\n",
    "vino = pd.read_csv('Bases de datos\\winequality-red.csv')\n",
    "#veamos cuantas dimensiones y registros contiene\n",
    "vino.shape"
   ]
  },
  {
   "cell_type": "code",
   "execution_count": 3,
   "metadata": {},
   "outputs": [
    {
     "data": {
      "text/html": [
       "<div>\n",
       "<style scoped>\n",
       "    .dataframe tbody tr th:only-of-type {\n",
       "        vertical-align: middle;\n",
       "    }\n",
       "\n",
       "    .dataframe tbody tr th {\n",
       "        vertical-align: top;\n",
       "    }\n",
       "\n",
       "    .dataframe thead th {\n",
       "        text-align: right;\n",
       "    }\n",
       "</style>\n",
       "<table border=\"1\" class=\"dataframe\">\n",
       "  <thead>\n",
       "    <tr style=\"text-align: right;\">\n",
       "      <th></th>\n",
       "      <th>fixed acidity</th>\n",
       "      <th>volatile acidity</th>\n",
       "      <th>citric acid</th>\n",
       "      <th>residual sugar</th>\n",
       "      <th>chlorides</th>\n",
       "      <th>free sulfur dioxide</th>\n",
       "      <th>total sulfur dioxide</th>\n",
       "      <th>density</th>\n",
       "      <th>pH</th>\n",
       "      <th>sulphates</th>\n",
       "      <th>alcohol</th>\n",
       "      <th>quality</th>\n",
       "    </tr>\n",
       "  </thead>\n",
       "  <tbody>\n",
       "    <tr>\n",
       "      <th>0</th>\n",
       "      <td>7.4</td>\n",
       "      <td>0.70</td>\n",
       "      <td>0.00</td>\n",
       "      <td>1.9</td>\n",
       "      <td>0.076</td>\n",
       "      <td>11.0</td>\n",
       "      <td>34.0</td>\n",
       "      <td>0.9978</td>\n",
       "      <td>3.51</td>\n",
       "      <td>0.56</td>\n",
       "      <td>9.4</td>\n",
       "      <td>5</td>\n",
       "    </tr>\n",
       "    <tr>\n",
       "      <th>1</th>\n",
       "      <td>7.8</td>\n",
       "      <td>0.88</td>\n",
       "      <td>0.00</td>\n",
       "      <td>2.6</td>\n",
       "      <td>0.098</td>\n",
       "      <td>25.0</td>\n",
       "      <td>67.0</td>\n",
       "      <td>0.9968</td>\n",
       "      <td>3.20</td>\n",
       "      <td>0.68</td>\n",
       "      <td>9.8</td>\n",
       "      <td>5</td>\n",
       "    </tr>\n",
       "    <tr>\n",
       "      <th>2</th>\n",
       "      <td>7.8</td>\n",
       "      <td>0.76</td>\n",
       "      <td>0.04</td>\n",
       "      <td>2.3</td>\n",
       "      <td>0.092</td>\n",
       "      <td>15.0</td>\n",
       "      <td>54.0</td>\n",
       "      <td>0.9970</td>\n",
       "      <td>3.26</td>\n",
       "      <td>0.65</td>\n",
       "      <td>9.8</td>\n",
       "      <td>5</td>\n",
       "    </tr>\n",
       "    <tr>\n",
       "      <th>3</th>\n",
       "      <td>11.2</td>\n",
       "      <td>0.28</td>\n",
       "      <td>0.56</td>\n",
       "      <td>1.9</td>\n",
       "      <td>0.075</td>\n",
       "      <td>17.0</td>\n",
       "      <td>60.0</td>\n",
       "      <td>0.9980</td>\n",
       "      <td>3.16</td>\n",
       "      <td>0.58</td>\n",
       "      <td>9.8</td>\n",
       "      <td>6</td>\n",
       "    </tr>\n",
       "    <tr>\n",
       "      <th>4</th>\n",
       "      <td>7.4</td>\n",
       "      <td>0.70</td>\n",
       "      <td>0.00</td>\n",
       "      <td>1.9</td>\n",
       "      <td>0.076</td>\n",
       "      <td>11.0</td>\n",
       "      <td>34.0</td>\n",
       "      <td>0.9978</td>\n",
       "      <td>3.51</td>\n",
       "      <td>0.56</td>\n",
       "      <td>9.4</td>\n",
       "      <td>5</td>\n",
       "    </tr>\n",
       "  </tbody>\n",
       "</table>\n",
       "</div>"
      ],
      "text/plain": [
       "   fixed acidity  volatile acidity  citric acid  residual sugar  chlorides  \\\n",
       "0            7.4              0.70         0.00             1.9      0.076   \n",
       "1            7.8              0.88         0.00             2.6      0.098   \n",
       "2            7.8              0.76         0.04             2.3      0.092   \n",
       "3           11.2              0.28         0.56             1.9      0.075   \n",
       "4            7.4              0.70         0.00             1.9      0.076   \n",
       "\n",
       "   free sulfur dioxide  total sulfur dioxide  density    pH  sulphates  \\\n",
       "0                 11.0                  34.0   0.9978  3.51       0.56   \n",
       "1                 25.0                  67.0   0.9968  3.20       0.68   \n",
       "2                 15.0                  54.0   0.9970  3.26       0.65   \n",
       "3                 17.0                  60.0   0.9980  3.16       0.58   \n",
       "4                 11.0                  34.0   0.9978  3.51       0.56   \n",
       "\n",
       "   alcohol  quality  \n",
       "0      9.4        5  \n",
       "1      9.8        5  \n",
       "2      9.8        5  \n",
       "3      9.8        6  \n",
       "4      9.4        5  "
      ]
     },
     "execution_count": 3,
     "metadata": {},
     "output_type": "execute_result"
    }
   ],
   "source": [
    "#Por lo anterior se tiene que hay 1599 observaciones y 12 variables\n",
    "vino.head()"
   ]
  },
  {
   "cell_type": "markdown",
   "metadata": {},
   "source": [
    "No se observan valores faltantes, ahora se realizará un resumen de las variables"
   ]
  },
  {
   "cell_type": "code",
   "execution_count": 4,
   "metadata": {},
   "outputs": [
    {
     "data": {
      "text/html": [
       "<div>\n",
       "<style scoped>\n",
       "    .dataframe tbody tr th:only-of-type {\n",
       "        vertical-align: middle;\n",
       "    }\n",
       "\n",
       "    .dataframe tbody tr th {\n",
       "        vertical-align: top;\n",
       "    }\n",
       "\n",
       "    .dataframe thead th {\n",
       "        text-align: right;\n",
       "    }\n",
       "</style>\n",
       "<table border=\"1\" class=\"dataframe\">\n",
       "  <thead>\n",
       "    <tr style=\"text-align: right;\">\n",
       "      <th></th>\n",
       "      <th>fixed acidity</th>\n",
       "      <th>volatile acidity</th>\n",
       "      <th>citric acid</th>\n",
       "      <th>residual sugar</th>\n",
       "      <th>chlorides</th>\n",
       "      <th>free sulfur dioxide</th>\n",
       "      <th>total sulfur dioxide</th>\n",
       "      <th>density</th>\n",
       "      <th>pH</th>\n",
       "      <th>sulphates</th>\n",
       "      <th>alcohol</th>\n",
       "      <th>quality</th>\n",
       "    </tr>\n",
       "  </thead>\n",
       "  <tbody>\n",
       "    <tr>\n",
       "      <th>count</th>\n",
       "      <td>1599.000000</td>\n",
       "      <td>1599.000000</td>\n",
       "      <td>1599.000000</td>\n",
       "      <td>1599.000000</td>\n",
       "      <td>1599.000000</td>\n",
       "      <td>1599.000000</td>\n",
       "      <td>1599.000000</td>\n",
       "      <td>1599.000000</td>\n",
       "      <td>1599.000000</td>\n",
       "      <td>1599.000000</td>\n",
       "      <td>1599.000000</td>\n",
       "      <td>1599.000000</td>\n",
       "    </tr>\n",
       "    <tr>\n",
       "      <th>mean</th>\n",
       "      <td>8.319637</td>\n",
       "      <td>0.527821</td>\n",
       "      <td>0.270976</td>\n",
       "      <td>2.538806</td>\n",
       "      <td>0.087467</td>\n",
       "      <td>15.874922</td>\n",
       "      <td>46.467792</td>\n",
       "      <td>0.996747</td>\n",
       "      <td>3.311113</td>\n",
       "      <td>0.658149</td>\n",
       "      <td>10.422983</td>\n",
       "      <td>5.636023</td>\n",
       "    </tr>\n",
       "    <tr>\n",
       "      <th>std</th>\n",
       "      <td>1.741096</td>\n",
       "      <td>0.179060</td>\n",
       "      <td>0.194801</td>\n",
       "      <td>1.409928</td>\n",
       "      <td>0.047065</td>\n",
       "      <td>10.460157</td>\n",
       "      <td>32.895324</td>\n",
       "      <td>0.001887</td>\n",
       "      <td>0.154386</td>\n",
       "      <td>0.169507</td>\n",
       "      <td>1.065668</td>\n",
       "      <td>0.807569</td>\n",
       "    </tr>\n",
       "    <tr>\n",
       "      <th>min</th>\n",
       "      <td>4.600000</td>\n",
       "      <td>0.120000</td>\n",
       "      <td>0.000000</td>\n",
       "      <td>0.900000</td>\n",
       "      <td>0.012000</td>\n",
       "      <td>1.000000</td>\n",
       "      <td>6.000000</td>\n",
       "      <td>0.990070</td>\n",
       "      <td>2.740000</td>\n",
       "      <td>0.330000</td>\n",
       "      <td>8.400000</td>\n",
       "      <td>3.000000</td>\n",
       "    </tr>\n",
       "    <tr>\n",
       "      <th>25%</th>\n",
       "      <td>7.100000</td>\n",
       "      <td>0.390000</td>\n",
       "      <td>0.090000</td>\n",
       "      <td>1.900000</td>\n",
       "      <td>0.070000</td>\n",
       "      <td>7.000000</td>\n",
       "      <td>22.000000</td>\n",
       "      <td>0.995600</td>\n",
       "      <td>3.210000</td>\n",
       "      <td>0.550000</td>\n",
       "      <td>9.500000</td>\n",
       "      <td>5.000000</td>\n",
       "    </tr>\n",
       "    <tr>\n",
       "      <th>50%</th>\n",
       "      <td>7.900000</td>\n",
       "      <td>0.520000</td>\n",
       "      <td>0.260000</td>\n",
       "      <td>2.200000</td>\n",
       "      <td>0.079000</td>\n",
       "      <td>14.000000</td>\n",
       "      <td>38.000000</td>\n",
       "      <td>0.996750</td>\n",
       "      <td>3.310000</td>\n",
       "      <td>0.620000</td>\n",
       "      <td>10.200000</td>\n",
       "      <td>6.000000</td>\n",
       "    </tr>\n",
       "    <tr>\n",
       "      <th>75%</th>\n",
       "      <td>9.200000</td>\n",
       "      <td>0.640000</td>\n",
       "      <td>0.420000</td>\n",
       "      <td>2.600000</td>\n",
       "      <td>0.090000</td>\n",
       "      <td>21.000000</td>\n",
       "      <td>62.000000</td>\n",
       "      <td>0.997835</td>\n",
       "      <td>3.400000</td>\n",
       "      <td>0.730000</td>\n",
       "      <td>11.100000</td>\n",
       "      <td>6.000000</td>\n",
       "    </tr>\n",
       "    <tr>\n",
       "      <th>max</th>\n",
       "      <td>15.900000</td>\n",
       "      <td>1.580000</td>\n",
       "      <td>1.000000</td>\n",
       "      <td>15.500000</td>\n",
       "      <td>0.611000</td>\n",
       "      <td>72.000000</td>\n",
       "      <td>289.000000</td>\n",
       "      <td>1.003690</td>\n",
       "      <td>4.010000</td>\n",
       "      <td>2.000000</td>\n",
       "      <td>14.900000</td>\n",
       "      <td>8.000000</td>\n",
       "    </tr>\n",
       "  </tbody>\n",
       "</table>\n",
       "</div>"
      ],
      "text/plain": [
       "       fixed acidity  volatile acidity  citric acid  residual sugar  \\\n",
       "count    1599.000000       1599.000000  1599.000000     1599.000000   \n",
       "mean        8.319637          0.527821     0.270976        2.538806   \n",
       "std         1.741096          0.179060     0.194801        1.409928   \n",
       "min         4.600000          0.120000     0.000000        0.900000   \n",
       "25%         7.100000          0.390000     0.090000        1.900000   \n",
       "50%         7.900000          0.520000     0.260000        2.200000   \n",
       "75%         9.200000          0.640000     0.420000        2.600000   \n",
       "max        15.900000          1.580000     1.000000       15.500000   \n",
       "\n",
       "         chlorides  free sulfur dioxide  total sulfur dioxide      density  \\\n",
       "count  1599.000000          1599.000000           1599.000000  1599.000000   \n",
       "mean      0.087467            15.874922             46.467792     0.996747   \n",
       "std       0.047065            10.460157             32.895324     0.001887   \n",
       "min       0.012000             1.000000              6.000000     0.990070   \n",
       "25%       0.070000             7.000000             22.000000     0.995600   \n",
       "50%       0.079000            14.000000             38.000000     0.996750   \n",
       "75%       0.090000            21.000000             62.000000     0.997835   \n",
       "max       0.611000            72.000000            289.000000     1.003690   \n",
       "\n",
       "                pH    sulphates      alcohol      quality  \n",
       "count  1599.000000  1599.000000  1599.000000  1599.000000  \n",
       "mean      3.311113     0.658149    10.422983     5.636023  \n",
       "std       0.154386     0.169507     1.065668     0.807569  \n",
       "min       2.740000     0.330000     8.400000     3.000000  \n",
       "25%       3.210000     0.550000     9.500000     5.000000  \n",
       "50%       3.310000     0.620000    10.200000     6.000000  \n",
       "75%       3.400000     0.730000    11.100000     6.000000  \n",
       "max       4.010000     2.000000    14.900000     8.000000  "
      ]
     },
     "execution_count": 4,
     "metadata": {},
     "output_type": "execute_result"
    }
   ],
   "source": [
    "vino.describe()"
   ]
  },
  {
   "cell_type": "code",
   "execution_count": 5,
   "metadata": {},
   "outputs": [
    {
     "data": {
      "image/png": "[encoded data removed]",
      "text/plain": [
       "<Figure size 1152x648 with 12 Axes>"
      ]
     },
     "metadata": {
      "needs_background": "light"
     },
     "output_type": "display_data"
    }
   ],
   "source": [
    "vino.hist()\n",
    "plt.show()"
   ]
  },
  {
   "cell_type": "markdown",
   "metadata": {},
   "source": [
    "Ahora procederemos con un modelo de regresión simple, donde la variable explicativa es el  porcentaje de alcohol."
   ]
  },
  {
   "cell_type": "code",
   "execution_count": 6,
   "metadata": {},
   "outputs": [
    {
     "name": "stdout",
     "output_type": "stream",
     "text": [
      "Coeficientes:  [0.36084177]\n",
      "Valor del intercepto:  1.8749748869971525\n",
      "Error cuadrático medio:0.50\n",
      "Puntaje de varianza: 0.23\n"
     ]
    }
   ],
   "source": [
    "X=np.asarray(vino['alcohol'])\n",
    "Y=np.asarray(vino['quality'])\n",
    "\n",
    "\n",
    "#Regresión lineal:\n",
    "regl=linear_model.LinearRegression()\n",
    "regl.fit(X.reshape(-1,1),Y)\n",
    "\n",
    "#Predicción\n",
    "y_hat=regl.predict(X.reshape(-1,1))\n",
    "\n",
    "print('Coeficientes: ', regl.coef_)\n",
    "print('Valor del intercepto: ', regl.intercept_)\n",
    "# Error Cuadrado Medio\n",
    "print(\"Error cuadrático medio:%.2f\" % mean_squared_error(Y,y_hat))\n",
    "# Puntaje de Varianza. El mejor puntaje es un 1.0\n",
    "print('Puntaje de varianza: %.2f' % r2_score(Y,y_hat))"
   ]
  },
  {
   "cell_type": "code",
   "execution_count": 7,
   "metadata": {},
   "outputs": [
    {
     "data": {
      "text/plain": [
       "Text(0, 0.5, '%Alcohol')"
      ]
     },
     "execution_count": 7,
     "metadata": {},
     "output_type": "execute_result"
    },
    {
     "data": {
      "image/png": "[encoded data removed]",
      "text/plain": [
       "<Figure size 1152x648 with 1 Axes>"
      ]
     },
     "metadata": {
      "needs_background": "light"
     },
     "output_type": "display_data"
    }
   ],
   "source": [
    "plt.scatter(X,Y)\n",
    "plt.plot(X,y_hat,color='red')\n",
    "plt.ylabel('%Alcohol')\n"
   ]
  },
  {
   "cell_type": "markdown",
   "metadata": {},
   "source": [
    "Ahora se realizará el modelo de regresión lineal múltiple, con las variables alcohol, acidez volátil y calidad"
   ]
  },
  {
   "cell_type": "code",
   "execution_count": 8,
   "metadata": {},
   "outputs": [],
   "source": [
    "#Se hace una separacion de laas variables\n",
    "names=list(vino)[0:10]\n",
    "df=vino[names]\n",
    "xm=np.array(df)\n",
    "y_train=vino['alcohol']\n"
   ]
  },
  {
   "cell_type": "code",
   "execution_count": 9,
   "metadata": {},
   "outputs": [
    {
     "name": "stdout",
     "output_type": "stream",
     "text": [
      "Coeficientes:  [ 5.32433095e-01  3.60837746e-01  8.30627496e-01  2.84410582e-01\n",
      " -1.46195934e+00 -2.14330209e-03 -2.29579410e-03 -6.17384805e+02\n",
      "  3.76229342e+00  1.24679232e+00]\n",
      "Valor del intercepto:  607.2226095182983\n",
      "Error cuadrático medio:0.37\n",
      "Puntaje de varianza: 0.67\n"
     ]
    }
   ],
   "source": [
    "regm=linear_model.LinearRegression()\n",
    "regm.fit(xm,y_train)\n",
    "y_pred=regm.predict(xm)\n",
    "\n",
    "print('Coeficientes: ', regm.coef_)\n",
    "print('Valor del intercepto: ', regm.intercept_)\n",
    "# Error Cuadrado Medio\n",
    "print(\"Error cuadrático medio:%.2f\" % mean_squared_error(y_train,y_pred))\n",
    "# Puntaje de Varianza. El mejor puntaje es un 1.0\n",
    "print('Puntaje de varianza: %.2f' % r2_score(y_train,y_pred))\n"
   ]
  },
  {
   "cell_type": "markdown",
   "metadata": {},
   "source": [
    "## 5. Conclusiones."
   ]
  },
  {
   "cell_type": "markdown",
   "metadata": {},
   "source": [
    "Al aumentar el número de parámetros se disminuye el Error Cuadrático Medio, sin embargo en este caso el criterio de parsimonia se ve afectado, por lo que se recomienda usar metodologías como el stepwise para ver que variables incluir en el modelo final."
   ]
  }
 ],
 "metadata": {
  "kernelspec": {
   "display_name": "Python 3",
   "language": "python",
   "name": "python3"
  },
  "language_info": {
   "codemirror_mode": {
    "name": "ipython",
    "version": 3
   },
   "file_extension": ".py",
   "mimetype": "text/x-python",
   "name": "python",
   "nbconvert_exporter": "python",
   "pygments_lexer": "ipython3",
   "version": "3.8.5"
  }
 },
 "nbformat": 4,
 "nbformat_minor": 4
}
